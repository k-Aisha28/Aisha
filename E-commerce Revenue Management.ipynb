{
 "cells": [
  {
   "cell_type": "markdown",
   "id": "6a7d5404",
   "metadata": {},
   "source": [
    "<font color='blue'>\n",
    "    <font size = 5>\n",
    "        You have been given the role of a business analyst for an E-Commerce company and have been asked to prepare a basic report on the data. Follow the steps below for preparation of the report. \n",
    "\n",
    "Before you start analysing the data, it is always a good practice to see the size of the data, its features and feature types. If the data set is big, it is not possible to print out all the records. \n",
    "    </font>\n",
    "####  Note: Use the markdown feature of Python to explain your answer.\n",
    "    "
   ]
  },
  {
   "cell_type": "markdown",
   "id": "daf5d935",
   "metadata": {},
   "source": [
    "## Load the necessary libraries. Import and load the dataset with a name ECom_Data ."
   ]
  },
  {
   "cell_type": "code",
   "execution_count": 10,
   "id": "eec2a3b5",
   "metadata": {},
   "outputs": [],
   "source": [
    "import numpy as np\n",
    "import pandas as pd\n",
    "import matplotlib.pyplot as plt\n",
    "import seaborn as sns\n",
    "pd.options.display.max_rows = 10"
   ]
  },
  {
   "cell_type": "code",
   "execution_count": 11,
   "id": "8e1fcc97",
   "metadata": {},
   "outputs": [],
   "source": [
    "# Get the Data\n",
    "\n",
    "ECom_Data=pd.read_csv('C:/Users/anamk/Downloads/E-Commerce_Flipkart.csv')\n",
    "\n"
   ]
  },
  {
   "cell_type": "markdown",
   "id": "2cf5f20f",
   "metadata": {},
   "source": [
    "<font color='blue'>\n",
    "    <font size = 5>\n",
    "        We have read the data and stored the data in \"ECom_Data\" variable </font>"
   ]
  },
  {
   "cell_type": "markdown",
   "id": "a0a4f84a",
   "metadata": {},
   "source": [
    "## Q 1.\tTo get familiar with the data\n",
    "## a)\tPrint out the first 10 and the last 10 records of the data. (2 marks)\n",
    "## b)\tHow many rows and columns are present in the dataset? Use any two different methods to extract this information. (2 + 2 + 2 marks)\n",
    "## c)\tHow many object data types are there? (1 mark)\n",
    "## d)\tIs there any Boolean data type? (1 mark) \n",
    "#### Note: Use the markdown feature of Python to explain your answer.\n"
   ]
  },
  {
   "cell_type": "markdown",
   "id": "77b1da17",
   "metadata": {},
   "source": []
  },
  {
   "cell_type": "markdown",
   "id": "0ba43d74",
   "metadata": {},
   "source": [
    "#### Ans 1 a)"
   ]
  },
  {
   "cell_type": "markdown",
   "id": "014d1f5a",
   "metadata": {},
   "source": [
    "ECom_Data.head(10)\n",
    "ECom_Data.tail(10)"
   ]
  },
  {
   "cell_type": "markdown",
   "id": "df06bedd",
   "metadata": {},
   "source": [
    "#### Ans 1 b)"
   ]
  },
  {
   "cell_type": "markdown",
   "id": "13239b7a",
   "metadata": {},
   "source": [
    "ECom_Data.shape\n",
    "print(\"The no of rows are:\",ECom_Data.shape[0],\"\\n The no of columns are:\",ECom_Data.shape[1])\n",
    "\n",
    "ECom_Data.info()\n",
    "\n"
   ]
  },
  {
   "cell_type": "markdown",
   "id": "6aaa54a0",
   "metadata": {},
   "source": [
    "#### Ans  1 c)"
   ]
  },
  {
   "cell_type": "markdown",
   "id": "6abc18fc",
   "metadata": {},
   "source": [
    "ECom_Data.info()\n",
    "There are 14 object data types\n",
    "\n"
   ]
  },
  {
   "cell_type": "markdown",
   "id": "5e63573c",
   "metadata": {},
   "source": [
    "### Ans 1 d)"
   ]
  },
  {
   "cell_type": "markdown",
   "id": "e42f8aa3",
   "metadata": {},
   "source": [
    "ECom_Data.info()\n",
    "ECom_Data.dtypes\n",
    "\n",
    "#There is no Boolean Datatype."
   ]
  },
  {
   "cell_type": "markdown",
   "id": "cc5d76f1",
   "metadata": {},
   "source": [
    "<font color='blue'>\n",
    "    <font size = 5>\n",
    " Once you are familiar with the data, you may decide that not all features are of use to you and you may want to delete the non-informative features (columns)</font>"
   ]
  },
  {
   "cell_type": "markdown",
   "id": "90db65ce",
   "metadata": {},
   "source": [
    "## Q 2.\tEliminating the non-informative columns.\n",
    "## a)\tDrop the columns product_specifications and description. (2 marks) \n",
    "## b)\tWhich method or function is used to permanently delete the columns mentioned in part (a)? Write the code explicitly (2 marks)\n",
    "### Note: Use the markdown feature of Python to explain your answer.\n"
   ]
  },
  {
   "cell_type": "markdown",
   "id": "e0e7e762",
   "metadata": {},
   "source": [
    "### Ans 2 a)"
   ]
  },
  {
   "cell_type": "markdown",
   "id": "fa41f74b",
   "metadata": {},
   "source": [
    "ECom_Data.head(1)\n",
    "ECom_Data.drop(['product_specifications','description'],axis=1)"
   ]
  },
  {
   "cell_type": "markdown",
   "id": "e6159f6a",
   "metadata": {},
   "source": [
    "### Ans 2 b)"
   ]
  },
  {
   "cell_type": "markdown",
   "id": "4ee4a905",
   "metadata": {},
   "source": [
    "ECom_Data.drop(['product_specifications','description'],axis=1,inplace=True)\n",
    "ECom_Data.shape"
   ]
  },
  {
   "cell_type": "markdown",
   "id": "cde421e0",
   "metadata": {},
   "source": [
    "<font color='blue'>\n",
    "    <font size = 5>\n",
    "        The next steps in this project involves summarization of data at various levels and visualization. Apparently, such simple steps are very useful to get an overall sense of the data.\n",
    "    </font>"
   ]
  },
  {
   "cell_type": "markdown",
   "id": "41c30ad7",
   "metadata": {},
   "source": [
    "## Q 3. Here we summarize the data at Brand level.\n",
    "## a) How many unique Brand are there? (2 marks)\n",
    "## b) Note that each Brand contains multiple products. Show the average product_rating within each Brand (2 marks)\n"
   ]
  },
  {
   "cell_type": "markdown",
   "id": "beb3f83f",
   "metadata": {},
   "source": [
    "### Ans 3 a)"
   ]
  },
  {
   "cell_type": "markdown",
   "id": "c324164e",
   "metadata": {},
   "source": [
    "ECom_Data.head(1)\n",
    "ECom_Data['Brand'].unique()\n",
    "len(ECom_Data['Brand'].unique())\n"
   ]
  },
  {
   "cell_type": "markdown",
   "id": "5083d866",
   "metadata": {},
   "source": [
    "### Ans 3 b)"
   ]
  },
  {
   "cell_type": "markdown",
   "id": "0b2505d9",
   "metadata": {},
   "source": [
    "ECom_Data.groupby(['Brand'])['product_rating'].mean()"
   ]
  },
  {
   "cell_type": "markdown",
   "id": "bbf162af",
   "metadata": {},
   "source": [
    "## Q 4. Next we study the main categories of the products.\n",
    "\n",
    "## a) Create an appropriate plot to show the count of items ordered for each product_main_category. (6 marks).\n",
    "\n",
    "### Hint: Create a bar chart titled \"Product Category type\" where product_main_category are on x-axis and counts are on y-axis.\n",
    "\n",
    "### Note: Both axis labels, i.e. the names of the product_main_category and counts must be clearly legible. \n",
    "\n",
    "## b) From the plot identify for which two product_main_category(s)  maximum and minimum orders were placed. (2 marks)\n",
    "\n",
    "## c) Write code to print out the top 5 product_main_category(s)  in descending order? (3 marks"
   ]
  },
  {
   "cell_type": "markdown",
   "id": "36c72928",
   "metadata": {},
   "source": [
    "### Ans 4 a)"
   ]
  },
  {
   "cell_type": "markdown",
   "id": "177d8fca",
   "metadata": {},
   "source": [
    "plt.figure(figsize=(10,7))\n",
    "plt.title('Product Category type')\n",
    "sns.countplot(data=ECom_Data, x='product_main_category');\n",
    "plt.xticks(rotation=90);"
   ]
  },
  {
   "cell_type": "markdown",
   "id": "e75dbd17",
   "metadata": {},
   "source": [
    "Ans 4 b)"
   ]
  },
  {
   "cell_type": "markdown",
   "id": "d3618c59",
   "metadata": {},
   "source": [
    "plt.figure(figsize=(10,90))\n",
    "plt.title('Product Category type')\n",
    "sns.countplot(data=ECom_Data, x='product_main_category');\n",
    "plt.xticks(rotation=90);\n",
    "\n",
    "#Maximum Orders were placed for Clothing and Mobile& Accessories.\n",
    "#Minimum Orders were placed for Food & Nutrition and Wearable Smart Devices.\n",
    "\n",
    "\n"
   ]
  },
  {
   "cell_type": "markdown",
   "id": "4ea60c92",
   "metadata": {},
   "source": [
    "### Ans 4 c)"
   ]
  },
  {
   "cell_type": "code",
   "execution_count": null,
   "id": "4f44a409",
   "metadata": {},
   "outputs": [],
   "source": [
    "ECom_Data.head(1)\n",
    "pd.DataFrame(ECom_Data.groupby('product_main_category')['Customer_uniq_id'].nunique()).sort_values(by='Customer_uniq_id',ascending=False).head() "
   ]
  },
  {
   "cell_type": "markdown",
   "id": "0b9f6e2b",
   "metadata": {},
   "source": [
    "<font color='blue'>\n",
    "    <font size = 5>\n",
    "    In E-commerce, both the retailers (here brands) and the company have to make profit to sustain in the business. \n",
    "    The E-Commerce company has the following rule for computing their own revenue: </font> \n",
    "    \n",
    "####     The company charges  \n",
    "####  (i) 25% on the orders having final price (discounted price) greater than 600\n",
    "\n",
    "#### (ii) 15% on the orders having final price (discounted price) greater than 350 but less than or equal to 600\n",
    "\n",
    "#### (iii) 10% on the orders having final price (discounted price) greater than 100 but less than or equal to 350\n",
    "\n",
    "#### (iv) Otherwise, 5% on the final price (discounted price)    </font> "
   ]
  },
  {
   "cell_type": "markdown",
   "id": "0f255fea",
   "metadata": {},
   "source": [
    "## Q 5. Find the Total Revenue generated by the E-Commerce company over all orders placed. (6 marks)\n",
    "\n",
    "#### Hint: Calculate revenue of E-commerce company using the conditions mentioned above and then do the total (sum) of all to get total Revenue. "
   ]
  },
  {
   "cell_type": "markdown",
   "id": "1f6b8028",
   "metadata": {},
   "source": [
    "### Ans 5"
   ]
  },
  {
   "cell_type": "code",
   "execution_count": 24,
   "id": "2383b8ae",
   "metadata": {},
   "outputs": [],
   "source": [
    "ECom_Data.head(1)\n",
    "x=0\n",
    "y=0\n",
    "z=0\n",
    "w=0\n",
    "for i in ECom_Data['discounted_price']:\n",
    "    if i>600:\n",
    "        a=i*0.25\n",
    "        x=x+a\n",
    "    elif i>350 & i<=600:\n",
    "        b=i*0.15\n",
    "        y=y+b\n",
    "    elif i>100 & i<=350:\n",
    "        c=i*0.10\n",
    "        z=z+c\n",
    "    else: \n",
    "        d=i*0.05\n",
    "        w=w+d\n",
    "        \n",
    "    \n",
    "        "
   ]
  },
  {
   "cell_type": "code",
   "execution_count": 25,
   "id": "4a44045b",
   "metadata": {},
   "outputs": [
    {
     "name": "stdout",
     "output_type": "stream",
     "text": [
      "2267972.2500000075\n"
     ]
    }
   ],
   "source": [
    "Revenue_Ecommerce=print(x+y+z+w)"
   ]
  },
  {
   "cell_type": "markdown",
   "id": "9161ca8c",
   "metadata": {},
   "source": [
    "<font color='blue'>\n",
    "    <font size = 5>\n",
    "    Now you need to find the revenue for each retailer (Brand)\n",
    "    </font>"
   ]
  },
  {
   "cell_type": "markdown",
   "id": "73dd23c3",
   "metadata": {},
   "source": [
    "## Q6.Calculate the total BrandRevenue and list the top 10 Brand having maximum revenue in descending order (6 marks)\n",
    "#### Hint: Total BrandRevenue is BrandRevenue which is generated after all the deductions. Also, BrandRevenue is different from the E-Commerce company's revenue.\n",
    "#### Brand Revenue is the discounted price minus the Revenue (generated using the conditions given above Q5)\n"
   ]
  },
  {
   "cell_type": "markdown",
   "id": "3514fa79",
   "metadata": {},
   "source": [
    "### Ans 6"
   ]
  },
  {
   "cell_type": "markdown",
   "id": "0684688c",
   "metadata": {},
   "source": [
    "X=[]\n",
    "for i in ECom_Data['discounted_price']:\n",
    "    if i>600:\n",
    "        X.append(i-i*0.25)\n",
    "        \n",
    "        \n",
    "    elif i>350 & i<=600:\n",
    "        X.append(i-i*0.15)\n",
    "        \n",
    "    elif i>100 & i<=350:\n",
    "        X.append(i-i*0.10)\n",
    "        \n",
    "    else: \n",
    "        X.append(i-i*0.10)\n",
    "        \n",
    "        \n"
   ]
  },
  {
   "cell_type": "markdown",
   "id": "cea0ff32",
   "metadata": {},
   "source": [
    "ECom_Data['Brand_Revenue']=X\n"
   ]
  },
  {
   "cell_type": "markdown",
   "id": "1b4377b6",
   "metadata": {},
   "source": [
    "ECom_Data.groupby(['Brand'])['Brand_Revenue'].sum()\n"
   ]
  },
  {
   "cell_type": "markdown",
   "id": "9eabf996",
   "metadata": {},
   "source": [
    "ECom_Data.groupby(['Brand'])['Brand_Revenue'].sum().sort_values(ascending=False).head(10)\n"
   ]
  },
  {
   "cell_type": "markdown",
   "id": "1dd8a865",
   "metadata": {},
   "source": [
    "<font color='blue'>\n",
    "    <font size = 5>\n",
    "Let us now investigate multiple features for each product to determine any pattern.\n",
    "</font>"
   ]
  },
  {
   "cell_type": "markdown",
   "id": "1aa1834b",
   "metadata": {},
   "source": [
    "## Q 7. Compare prices for each product.\n",
    "\n",
    "## a)\tDraw boxplots of retail_price & discounted_price. (3 marks)\n",
    "\n",
    "## b)\t Are there any outliers? (Yes/No) (1mark)\n",
    "\n",
    "## c)\tCreate a scatterplot of retail_price (x-axis) and discounted_price (y-axis) (3 marks)\n"
   ]
  },
  {
   "cell_type": "markdown",
   "id": "d5aae861",
   "metadata": {},
   "source": [
    "### Ans 7 a)"
   ]
  },
  {
   "cell_type": "markdown",
   "id": "ee961a10",
   "metadata": {},
   "source": [
    "ECom_Data.head(1)\n",
    "plt.figure(figsize=(20,20))\n",
    "sns.boxplot(data=ECom_Data, x='retail_price',color='green')\n",
    "\n",
    "\n",
    "\n",
    "\n",
    "plt.figure(figsize=(10,30))\n",
    "sns.boxplot(data=ECom_Data, x='discounted_price',color='green')\n",
    "plt.xticks(rotation=90);\n",
    "\n"
   ]
  },
  {
   "cell_type": "markdown",
   "id": "78b92e7c",
   "metadata": {},
   "source": [
    "### Ans 7 b)"
   ]
  },
  {
   "cell_type": "markdown",
   "id": "1b478e4b",
   "metadata": {},
   "source": [
    "YES"
   ]
  },
  {
   "cell_type": "markdown",
   "id": "0389c9b8",
   "metadata": {},
   "source": [
    "### Ans 7 c)"
   ]
  },
  {
   "cell_type": "markdown",
   "id": "cfb3860b",
   "metadata": {},
   "source": [
    "sns.scatterplot(data=ECom_Data, x='retail_price', y='discounted_price');"
   ]
  },
  {
   "cell_type": "markdown",
   "id": "3bc47f55",
   "metadata": {},
   "source": [
    "<font color='blue'>\n",
    "    <font size = 5>\n",
    "    The next steps will enable to study brand-level information.\n",
    "    </font>"
   ]
  },
  {
   "cell_type": "markdown",
   "id": "b9bd00f7",
   "metadata": {},
   "source": [
    "## Q 8. Create a new dataframe to include the Brand specific information as stated:\n",
    "## i.\ttotal number of orders placed per Brand\n",
    "## ii.\ttotal retail_price per Brand\n",
    "## iii.\ttotal discounted_price per Brand, and \n",
    "## iv.\ttotal net BrandRevenue generated per Brand. \n",
    "\n",
    "## Also, draw a pairplot using these four features. (6 marks)\n"
   ]
  },
  {
   "cell_type": "markdown",
   "id": "8f83cea9",
   "metadata": {},
   "source": [
    "### Ans 8"
   ]
  },
  {
   "cell_type": "markdown",
   "id": "019e4615",
   "metadata": {},
   "source": [
    "# ECom_Data.head(1)\n",
    "a= ECom_Data.groupby('Brand')['Customer_uniq_id'].count()\n",
    "#a= pd.DataFrame(ECom_Data.groupby('Brand')['Customer_uniq_id'].nunique()).reset_index().sort_values(by='Customer_uniq_id',ascending=False).head(5)\n",
    "b= ECom_Data.groupby('Brand')['retail_price'].sum()\n",
    "c=ECom_Data.groupby('Brand')['discounted_price'].sum()\n",
    "d=ECom_Data.groupby(['Brand'])['Brand_Revenue'].sum()\n",
    "\n",
    "New_Data=pd.concat([a,b,c,d],axis=1)\n",
    "New_Data.head(1)\n"
   ]
  },
  {
   "cell_type": "markdown",
   "id": "7662c805",
   "metadata": {},
   "source": [
    "\n",
    "sns.pairplot(data=New_Data[['Customer_uniq_id','retail_price','discounted_price','Brand_Revenue']])\n",
    "\n"
   ]
  },
  {
   "cell_type": "markdown",
   "id": "ecec83f4",
   "metadata": {},
   "source": []
  },
  {
   "cell_type": "markdown",
   "id": "dd09b8aa",
   "metadata": {},
   "source": [
    "## Q 9.Compare performance regionwise\n",
    "\n",
    "## a)\tDraw a lineplot for the monthly Revenue of E-Commerce Company for each region separately.  (4 marks) \n",
    "\n",
    "## b)\tIdentify the best and the worst performing months for each region. (2 marks)\n",
    "\n",
    "#### Note: Only those days with actual orders(Order_Date) placed are present in the dataset. Assuming there were no orders on other days"
   ]
  },
  {
   "cell_type": "markdown",
   "id": "e6d64aea",
   "metadata": {},
   "source": [
    "### Ans 9 a)"
   ]
  },
  {
   "cell_type": "code",
   "execution_count": 66,
   "id": "b7afdcb7",
   "metadata": {},
   "outputs": [],
   "source": [
    "Y=[]\n",
    "for i in ECom_Data['discounted_price']:\n",
    "    if i>600:\n",
    "        Y.append(i*0.25)\n",
    "        \n",
    "    elif i>350 & i<=600:\n",
    "        Y.append(i*0.25)\n",
    "       \n",
    "    elif i>100 & i<=350:\n",
    "        Y.append(i*0.10)\n",
    "       \n",
    "    else: \n",
    "        Y.append(i*0.05)\n",
    "       \n",
    "    \n",
    "\n",
    "        \n",
    "    "
   ]
  },
  {
   "cell_type": "code",
   "execution_count": 69,
   "id": "d41baeff",
   "metadata": {},
   "outputs": [
    {
     "data": {
      "text/html": [
       "<div>\n",
       "<style scoped>\n",
       "    .dataframe tbody tr th:only-of-type {\n",
       "        vertical-align: middle;\n",
       "    }\n",
       "\n",
       "    .dataframe tbody tr th {\n",
       "        vertical-align: top;\n",
       "    }\n",
       "\n",
       "    .dataframe thead th {\n",
       "        text-align: right;\n",
       "    }\n",
       "</style>\n",
       "<table border=\"1\" class=\"dataframe\">\n",
       "  <thead>\n",
       "    <tr style=\"text-align: right;\">\n",
       "      <th></th>\n",
       "      <th>Customer_uniq_id</th>\n",
       "      <th>Region</th>\n",
       "      <th>Order_Date</th>\n",
       "      <th>Expected_Delivery_Date</th>\n",
       "      <th>Delivered_Date</th>\n",
       "      <th>product_name</th>\n",
       "      <th>product_main_category</th>\n",
       "      <th>product_subcategory</th>\n",
       "      <th>product_category_filter</th>\n",
       "      <th>product_category_subfilter</th>\n",
       "      <th>product_unique ID</th>\n",
       "      <th>retail_price</th>\n",
       "      <th>discounted_price</th>\n",
       "      <th>product_rating</th>\n",
       "      <th>Brand</th>\n",
       "      <th>product_specifications</th>\n",
       "      <th>description</th>\n",
       "      <th>Brand_Revenue</th>\n",
       "      <th>Revenue_Ecom</th>\n",
       "    </tr>\n",
       "  </thead>\n",
       "  <tbody>\n",
       "    <tr>\n",
       "      <th>0</th>\n",
       "      <td>c2d766ca982eca8304150849735ffef9</td>\n",
       "      <td>North</td>\n",
       "      <td>31-12-2021</td>\n",
       "      <td>03-01-2022</td>\n",
       "      <td>02-01-2022</td>\n",
       "      <td>Alisha Solid Women's Cycling Shorts</td>\n",
       "      <td>Clothing</td>\n",
       "      <td>Women's Clothing</td>\n",
       "      <td>Lingerie, Sleep &amp; Swimwear</td>\n",
       "      <td>Shorts</td>\n",
       "      <td>SRTEH2FF9KEDEFGF</td>\n",
       "      <td>999</td>\n",
       "      <td>379</td>\n",
       "      <td>2.0</td>\n",
       "      <td>Alisha</td>\n",
       "      <td>{\"product_specification\"=&gt;[{\"key\"=&gt;\"Number of ...</td>\n",
       "      <td>Key Features of Alisha Solid Women's Cycling S...</td>\n",
       "      <td>322.15</td>\n",
       "      <td>94.75</td>\n",
       "    </tr>\n",
       "  </tbody>\n",
       "</table>\n",
       "</div>"
      ],
      "text/plain": [
       "                   Customer_uniq_id Region  Order_Date Expected_Delivery_Date  \\\n",
       "0  c2d766ca982eca8304150849735ffef9  North  31-12-2021             03-01-2022   \n",
       "\n",
       "  Delivered_Date                         product_name product_main_category  \\\n",
       "0     02-01-2022  Alisha Solid Women's Cycling Shorts             Clothing    \n",
       "\n",
       "  product_subcategory       product_category_filter  \\\n",
       "0   Women's Clothing    Lingerie, Sleep & Swimwear    \n",
       "\n",
       "  product_category_subfilter product_unique ID  retail_price  \\\n",
       "0                    Shorts   SRTEH2FF9KEDEFGF           999   \n",
       "\n",
       "   discounted_price  product_rating   Brand  \\\n",
       "0               379             2.0  Alisha   \n",
       "\n",
       "                              product_specifications  \\\n",
       "0  {\"product_specification\"=>[{\"key\"=>\"Number of ...   \n",
       "\n",
       "                                         description  Brand_Revenue  \\\n",
       "0  Key Features of Alisha Solid Women's Cycling S...         322.15   \n",
       "\n",
       "   Revenue_Ecom  \n",
       "0         94.75  "
      ]
     },
     "execution_count": 69,
     "metadata": {},
     "output_type": "execute_result"
    }
   ],
   "source": [
    "ECom_Data['Revenue_Ecom']=Y\n",
    "ECom_Data.head(1)"
   ]
  },
  {
   "cell_type": "code",
   "execution_count": 71,
   "id": "cae54eb2",
   "metadata": {},
   "outputs": [
    {
     "data": {
      "text/html": [
       "<div>\n",
       "<style scoped>\n",
       "    .dataframe tbody tr th:only-of-type {\n",
       "        vertical-align: middle;\n",
       "    }\n",
       "\n",
       "    .dataframe tbody tr th {\n",
       "        vertical-align: top;\n",
       "    }\n",
       "\n",
       "    .dataframe thead th {\n",
       "        text-align: right;\n",
       "    }\n",
       "</style>\n",
       "<table border=\"1\" class=\"dataframe\">\n",
       "  <thead>\n",
       "    <tr style=\"text-align: right;\">\n",
       "      <th></th>\n",
       "      <th>Customer_uniq_id</th>\n",
       "      <th>Region</th>\n",
       "      <th>Order_Date</th>\n",
       "      <th>Expected_Delivery_Date</th>\n",
       "      <th>Delivered_Date</th>\n",
       "      <th>product_name</th>\n",
       "      <th>product_main_category</th>\n",
       "      <th>product_subcategory</th>\n",
       "      <th>product_category_filter</th>\n",
       "      <th>product_category_subfilter</th>\n",
       "      <th>product_unique ID</th>\n",
       "      <th>retail_price</th>\n",
       "      <th>discounted_price</th>\n",
       "      <th>product_rating</th>\n",
       "      <th>Brand</th>\n",
       "      <th>product_specifications</th>\n",
       "      <th>description</th>\n",
       "      <th>Brand_Revenue</th>\n",
       "      <th>Revenue_Ecom</th>\n",
       "    </tr>\n",
       "  </thead>\n",
       "  <tbody>\n",
       "    <tr>\n",
       "      <th>0</th>\n",
       "      <td>c2d766ca982eca8304150849735ffef9</td>\n",
       "      <td>North</td>\n",
       "      <td>2021-12-31</td>\n",
       "      <td>03-01-2022</td>\n",
       "      <td>02-01-2022</td>\n",
       "      <td>Alisha Solid Women's Cycling Shorts</td>\n",
       "      <td>Clothing</td>\n",
       "      <td>Women's Clothing</td>\n",
       "      <td>Lingerie, Sleep &amp; Swimwear</td>\n",
       "      <td>Shorts</td>\n",
       "      <td>SRTEH2FF9KEDEFGF</td>\n",
       "      <td>999</td>\n",
       "      <td>379</td>\n",
       "      <td>2.0</td>\n",
       "      <td>Alisha</td>\n",
       "      <td>{\"product_specification\"=&gt;[{\"key\"=&gt;\"Number of ...</td>\n",
       "      <td>Key Features of Alisha Solid Women's Cycling S...</td>\n",
       "      <td>322.15</td>\n",
       "      <td>94.75</td>\n",
       "    </tr>\n",
       "  </tbody>\n",
       "</table>\n",
       "</div>"
      ],
      "text/plain": [
       "                   Customer_uniq_id Region Order_Date Expected_Delivery_Date  \\\n",
       "0  c2d766ca982eca8304150849735ffef9  North 2021-12-31             03-01-2022   \n",
       "\n",
       "  Delivered_Date                         product_name product_main_category  \\\n",
       "0     02-01-2022  Alisha Solid Women's Cycling Shorts             Clothing    \n",
       "\n",
       "  product_subcategory       product_category_filter  \\\n",
       "0   Women's Clothing    Lingerie, Sleep & Swimwear    \n",
       "\n",
       "  product_category_subfilter product_unique ID  retail_price  \\\n",
       "0                    Shorts   SRTEH2FF9KEDEFGF           999   \n",
       "\n",
       "   discounted_price  product_rating   Brand  \\\n",
       "0               379             2.0  Alisha   \n",
       "\n",
       "                              product_specifications  \\\n",
       "0  {\"product_specification\"=>[{\"key\"=>\"Number of ...   \n",
       "\n",
       "                                         description  Brand_Revenue  \\\n",
       "0  Key Features of Alisha Solid Women's Cycling S...         322.15   \n",
       "\n",
       "   Revenue_Ecom  \n",
       "0         94.75  "
      ]
     },
     "execution_count": 71,
     "metadata": {},
     "output_type": "execute_result"
    }
   ],
   "source": [
    "ECom_Data['Order_Date']=pd.to_datetime(ECom_Data['Order_Date'],dayfirst=True)\n",
    "ECom_Data.head(1)\n",
    "\n"
   ]
  },
  {
   "cell_type": "code",
   "execution_count": 73,
   "id": "0c00071b",
   "metadata": {},
   "outputs": [
    {
     "data": {
      "text/html": [
       "<div>\n",
       "<style scoped>\n",
       "    .dataframe tbody tr th:only-of-type {\n",
       "        vertical-align: middle;\n",
       "    }\n",
       "\n",
       "    .dataframe tbody tr th {\n",
       "        vertical-align: top;\n",
       "    }\n",
       "\n",
       "    .dataframe thead th {\n",
       "        text-align: right;\n",
       "    }\n",
       "</style>\n",
       "<table border=\"1\" class=\"dataframe\">\n",
       "  <thead>\n",
       "    <tr style=\"text-align: right;\">\n",
       "      <th></th>\n",
       "      <th>Customer_uniq_id</th>\n",
       "      <th>Region</th>\n",
       "      <th>Order_Date</th>\n",
       "      <th>Expected_Delivery_Date</th>\n",
       "      <th>Delivered_Date</th>\n",
       "      <th>product_name</th>\n",
       "      <th>product_main_category</th>\n",
       "      <th>product_subcategory</th>\n",
       "      <th>product_category_filter</th>\n",
       "      <th>product_category_subfilter</th>\n",
       "      <th>product_unique ID</th>\n",
       "      <th>retail_price</th>\n",
       "      <th>discounted_price</th>\n",
       "      <th>product_rating</th>\n",
       "      <th>Brand</th>\n",
       "      <th>product_specifications</th>\n",
       "      <th>description</th>\n",
       "      <th>Brand_Revenue</th>\n",
       "      <th>Revenue_Ecom</th>\n",
       "      <th>Month</th>\n",
       "    </tr>\n",
       "  </thead>\n",
       "  <tbody>\n",
       "    <tr>\n",
       "      <th>0</th>\n",
       "      <td>c2d766ca982eca8304150849735ffef9</td>\n",
       "      <td>North</td>\n",
       "      <td>2021-12-31</td>\n",
       "      <td>03-01-2022</td>\n",
       "      <td>02-01-2022</td>\n",
       "      <td>Alisha Solid Women's Cycling Shorts</td>\n",
       "      <td>Clothing</td>\n",
       "      <td>Women's Clothing</td>\n",
       "      <td>Lingerie, Sleep &amp; Swimwear</td>\n",
       "      <td>Shorts</td>\n",
       "      <td>SRTEH2FF9KEDEFGF</td>\n",
       "      <td>999</td>\n",
       "      <td>379</td>\n",
       "      <td>2.0</td>\n",
       "      <td>Alisha</td>\n",
       "      <td>{\"product_specification\"=&gt;[{\"key\"=&gt;\"Number of ...</td>\n",
       "      <td>Key Features of Alisha Solid Women's Cycling S...</td>\n",
       "      <td>322.15</td>\n",
       "      <td>94.75</td>\n",
       "      <td>12</td>\n",
       "    </tr>\n",
       "  </tbody>\n",
       "</table>\n",
       "</div>"
      ],
      "text/plain": [
       "                   Customer_uniq_id Region Order_Date Expected_Delivery_Date  \\\n",
       "0  c2d766ca982eca8304150849735ffef9  North 2021-12-31             03-01-2022   \n",
       "\n",
       "  Delivered_Date                         product_name product_main_category  \\\n",
       "0     02-01-2022  Alisha Solid Women's Cycling Shorts             Clothing    \n",
       "\n",
       "  product_subcategory       product_category_filter  \\\n",
       "0   Women's Clothing    Lingerie, Sleep & Swimwear    \n",
       "\n",
       "  product_category_subfilter product_unique ID  retail_price  \\\n",
       "0                    Shorts   SRTEH2FF9KEDEFGF           999   \n",
       "\n",
       "   discounted_price  product_rating   Brand  \\\n",
       "0               379             2.0  Alisha   \n",
       "\n",
       "                              product_specifications  \\\n",
       "0  {\"product_specification\"=>[{\"key\"=>\"Number of ...   \n",
       "\n",
       "                                         description  Brand_Revenue  \\\n",
       "0  Key Features of Alisha Solid Women's Cycling S...         322.15   \n",
       "\n",
       "   Revenue_Ecom  Month  \n",
       "0         94.75     12  "
      ]
     },
     "execution_count": 73,
     "metadata": {},
     "output_type": "execute_result"
    }
   ],
   "source": [
    "ECom_Data['Month']=ECom_Data['Order_Date'].dt.month\n",
    "ECom_Data.head(1)"
   ]
  },
  {
   "cell_type": "code",
   "execution_count": 78,
   "id": "baddcd5a",
   "metadata": {},
   "outputs": [
    {
     "data": {
      "image/png": "[encoded data removed]",
      "text/plain": [
       "<Figure size 432x288 with 1 Axes>"
      ]
     },
     "metadata": {
      "needs_background": "light"
     },
     "output_type": "display_data"
    }
   ],
   "source": [
    "sns.lineplot(data=ECom_Data,x = 'Month' , y = 'Revenue_Ecom', ci = False ,hue='Region' );\n"
   ]
  },
  {
   "cell_type": "markdown",
   "id": "dac59dc4",
   "metadata": {},
   "source": [
    "### Ans 9 b)"
   ]
  },
  {
   "cell_type": "code",
   "execution_count": null,
   "id": "634b8ccf",
   "metadata": {},
   "outputs": [],
   "source": [
    "For East: Best:August Worst:October\n",
    "For West: Best: March Worst:October\n",
    "For North: Best:August Worst:July\n",
    "For South: Best:March Worst:May"
   ]
  },
  {
   "cell_type": "code",
   "execution_count": null,
   "id": "9f569635",
   "metadata": {},
   "outputs": [],
   "source": []
  },
  {
   "cell_type": "markdown",
   "id": "dcb8d39f",
   "metadata": {},
   "source": [
    "<font color='blue'>\n",
    "    <font size = 5>\n",
    "    Congratulations! You have learnt how to approach a complex data and extract information out of it. \n",
    "    </font>"
   ]
  }
 ],
 "metadata": {
  "kernelspec": {
   "display_name": "Python 3 (ipykernel)",
   "language": "python",
   "name": "python3"
  },
  "language_info": {
   "codemirror_mode": {
    "name": "ipython",
    "version": 3
   },
   "file_extension": ".py",
   "mimetype": "text/x-python",
   "name": "python",
   "nbconvert_exporter": "python",
   "pygments_lexer": "ipython3",
   "version": "3.9.12"
  }
 },
 "nbformat": 4,
 "nbformat_minor": 5
}
