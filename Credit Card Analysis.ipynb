{
 "cells": [
  {
   "cell_type": "markdown",
   "id": "2c7d99d5",
   "metadata": {},
   "source": [
    "***Framing An Analytics Problem***\n",
    "\n",
    "\n",
    "\n",
    "Analyse the dataset and list down the top 5 important variables, along with the business justifications."
   ]
  },
  {
   "cell_type": "markdown",
   "id": "249808cb",
   "metadata": {},
   "source": [
    "Problem 2\n",
    "\n",
    "A bank can generate revenue in a variety of ways, such as charging interest, transaction fees and financial advice. Interest charged on the capital that the bank lends out to customers has historically been the most significant method of revenue generation. The bank earns profits from the difference between the interest rates it pays on deposits and other sources of funds, and the interest rates it charges on the loans it gives out.\n",
    "\n",
    "GODIGT Bank is a mid-sized private bank that deals in all kinds of banking products, such as savings accounts, current accounts, investment products, etc. among other offerings. The bank also cross-sells asset products to its existing customers through personal loans, auto loans, business loans, etc., and to do so they use various communication methods including cold calling, e-mails, recommendations on the net banking, mobile banking, etc.\n",
    "\n",
    "GODIGT Bank also has a set of customers who were given credit cards based on risk policy and customer category class but due to huge competition in the credit card market, the bank is observing high attrition in credit card spending. The bank makes money only if customers spend more on credit cards. Given the attrition, the Bank wants to revisit its credit card policy and make sure that the card given to the customer is the right credit card. The bank will make a profit only through the customers that show higher intent towards a recommended credit card. (Higher intent means consumers would want to use the card and hence not be attrite.)"
   ]
  },
  {
   "cell_type": "code",
   "execution_count": null,
   "id": "b5d29a39",
   "metadata": {},
   "outputs": [],
   "source": [
    "import pandas as pd \n",
    "import numpy as np \n",
    "import seaborn as sns \n",
    "import matplotlib.pyplot as plt \n",
    "import os \n",
    "\n",
    "import warnings\n",
    "warnings.filterwarnings(\"ignore\")"
   ]
  },
  {
   "cell_type": "code",
   "execution_count": null,
   "id": "9ac82426",
   "metadata": {},
   "outputs": [],
   "source": [
    "Data1=pd.read_excel(r'C:/Users/anamk/Downloads/godigt_cc_data (1).xlsx'"
   ]
  },
  {
   "cell_type": "code",
   "execution_count": null,
   "id": "8226c00b",
   "metadata": {},
   "outputs": [],
   "source": [
    "Data1.shape"
   ]
  },
  {
   "cell_type": "code",
   "execution_count": null,
   "id": "598ec508",
   "metadata": {},
   "outputs": [],
   "source": [
    "Data1.info()"
   ]
  },
  {
   "cell_type": "code",
   "execution_count": null,
   "id": "3aff8021",
   "metadata": {},
   "outputs": [],
   "source": [
    "Data1.isnull().sum()"
   ]
  },
  {
   "cell_type": "code",
   "execution_count": null,
   "id": "6a94cd16",
   "metadata": {},
   "outputs": [],
   "source": [
    "Data1.info()"
   ]
  },
  {
   "cell_type": "code",
   "execution_count": null,
   "id": "2e394a15",
   "metadata": {},
   "outputs": [],
   "source": [
    "cat=[]\n",
    "num=[]\n",
    "for i in Data1.columns:\n",
    "    if Data1[i].dtype==\"object\":\n",
    "        cat.append(i)\n",
    "    else:\n",
    "        num.append(i)\n",
    "print(cat) \n",
    "print(num)"
   ]
  },
  {
   "cell_type": "code",
   "execution_count": null,
   "id": "a55317f9",
   "metadata": {},
   "outputs": [],
   "source": [
    "Data1[cat]"
   ]
  },
  {
   "cell_type": "code",
   "execution_count": null,
   "id": "d44647d2",
   "metadata": {},
   "outputs": [],
   "source": [
    "Data1['Issuer']=Data1['Issuer'].astype('category')\n",
    "Data1['card_type']=Data1['card_type'].astype('category')\n",
    "Data1['high_networth']=Data1['high_networth'].astype('category')\n",
    "Data1['other_bank_cc_holding']=Data1['other_bank_cc_holding'].astype('category')\n",
    "Data1['Occupation_at_source']=Data1['Occupation_at_source'].astype('category')"
   ]
  },
  {
   "cell_type": "code",
   "execution_count": null,
   "id": "e2c0f90c",
   "metadata": {},
   "outputs": [],
   "source": [
    "Data1['Issuer_cat']=Data1['Issuer'].cat.codes\n",
    "Data1['Issuer_cat'].unique()"
   ]
  },
  {
   "cell_type": "code",
   "execution_count": null,
   "id": "46a922a7",
   "metadata": {},
   "outputs": [],
   "source": [
    "Data1['card_type_cat']=Data1['card_type'].cat.codes\n",
    "Data1['card_type_cat'].unique()"
   ]
  },
  {
   "cell_type": "code",
   "execution_count": null,
   "id": "3c3da034",
   "metadata": {},
   "outputs": [],
   "source": [
    "Data1['high_networth_cat']=Data1['high_networth'].cat.codes\n",
    "Data1['high_networth_cat'].unique()"
   ]
  },
  {
   "cell_type": "code",
   "execution_count": null,
   "id": "29829c96",
   "metadata": {},
   "outputs": [],
   "source": [
    "Data1['other_bank_cc_holding_cat']=Data1['other_bank_cc_holding'].cat.codes\n",
    "Data1['other_bank_cc_holding_cat'].unique()"
   ]
  },
  {
   "cell_type": "code",
   "execution_count": null,
   "id": "a0bcd60b",
   "metadata": {},
   "outputs": [],
   "source": [
    "Data1.drop(['userid','card_no','card_bin_no','Issuer','card_type','card_source_date','high_networth'],axis=1,inplace=True)\n",
    "Data1.head()"
   ]
  },
  {
   "cell_type": "code",
   "execution_count": null,
   "id": "99d16c3d",
   "metadata": {},
   "outputs": [],
   "source": [
    "Data1.drop(['active_30','active_60','active_90','hotlist_flag','widget_products','engagement_products','T+1_month_activity','T+2_month_activity'],axis=1,inplace=True)\n"
   ]
  },
  {
   "cell_type": "code",
   "execution_count": null,
   "id": "460056aa",
   "metadata": {},
   "outputs": [],
   "source": [
    "Data1.drop(['Transactor_revolver','Occupation_at_source'],axis=1,inplace=True)\n",
    "Data1.head(0)"
   ]
  },
  {
   "cell_type": "markdown",
   "id": "0e5da28a",
   "metadata": {},
   "source": [
    "Data1.corr().round(2)"
   ]
  },
  {
   "cell_type": "markdown",
   "id": "435e463d",
   "metadata": {},
   "source": [
    "plt.figure(figsize=(20,20))\n",
    "sns.heatmap(Data1.corr(),annot=True,fmt=\".2f\");"
   ]
  }
 ],
 "metadata": {
  "kernelspec": {
   "display_name": "Python 3 (ipykernel)",
   "language": "python",
   "name": "python3"
  },
  "language_info": {
   "codemirror_mode": {
    "name": "ipython",
    "version": 3
   },
   "file_extension": ".py",
   "mimetype": "text/x-python",
   "name": "python",
   "nbconvert_exporter": "python",
   "pygments_lexer": "ipython3",
   "version": "3.9.12"
  }
 },
 "nbformat": 4,
 "nbformat_minor": 5
}
